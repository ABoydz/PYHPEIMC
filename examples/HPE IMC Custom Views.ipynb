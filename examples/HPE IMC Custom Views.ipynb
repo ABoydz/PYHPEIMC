{
 "cells": [
  {
   "cell_type": "code",
   "execution_count": 1,
   "metadata": {},
   "outputs": [
    {
     "data": {
      "text/html": [
       "<style>\n",
       "table {float:left}\n",
       "</style>"
      ]
     },
     "output_type": "execute_result",
     "metadata": {}
    }
   ],
   "source": [
    "%%html\n",
    "<style>\n",
    "table {float:left}\n",
    "</style>"
   ]
  },
  {
   "cell_type": "code",
   "execution_count": 2,
   "metadata": {},
   "outputs": [],
   "source": [
    "import csv\n",
    "from pyhpeimc.auth import *\n",
    "from pyhpeimc.plat.groups import *"
   ]
  },
  {
   "cell_type": "markdown",
   "metadata": {},
   "source": [
    "# Input IMC Credentials\n",
    "\n",
    "\n",
    "Create new auth object which contains the URL, username, password to access the IMC server"
   ]
  },
  {
   "cell_type": "code",
   "execution_count": 6,
   "metadata": {},
   "outputs": [],
   "source": [
    "auth = IMCAuth(\"http://\", \"10.101.0.203\", \"8080\", \"admin\", \"admin\")"
   ]
  },
  {
   "cell_type": "markdown",
   "metadata": {},
   "source": [
    "# Working with Single Custom Views\n",
    "\n",
    "In this section, we will look at the various functions designed to work with individual custom views. "
   ]
  },
  {
   "cell_type": "markdown",
   "metadata": {},
   "source": [
    "## Create Print View List Helper Function"
   ]
  },
  {
   "cell_type": "code",
   "execution_count": 7,
   "metadata": {},
   "outputs": [],
   "source": [
    "def print_views():\n",
    "    views_list = get_custom_views(url=auth.url, auth=auth.creds)\n",
    "    print (\"There are a total of \" + str(len(views_list)) + \" views currently\")\n",
    "    for view in views_list:\n",
    "        print (view['name'])\n",
    "    print (json.dumps(views_list[0], indent = 4))"
   ]
  },
  {
   "cell_type": "markdown",
   "metadata": {},
   "source": [
    "## Display the current views\n",
    "\n",
    "This section will count the total number of existing views as well as display the first view returned.\n",
    "\n",
    "Notice the 'upLevelSymbolId\" is **3** for this custom view. The three designates that this is a level one custom view, meaning that it's at the root of the custom view tree."
   ]
  },
  {
   "cell_type": "code",
   "execution_count": 8,
   "metadata": {},
   "outputs": [
    {
     "name": "stdout",
     "output_type": "stream",
     "text": [
      "There are a total of 1 views currently\n",
      "My Network View\n",
      "{\n",
      "    \"name\": \"My Network View\",\n",
      "    \"statusImgSrc\": \"res/icon_custom_view_critical_16x16.png\",\n",
      "    \"statusDesc\": \"Critical\",\n",
      "    \"upLevelSymbolId\": \"3\",\n",
      "    \"symbolId\": \"11\",\n",
      "    \"runStatus\": \"5\"\n",
      "}\n"
     ]
    }
   ],
   "source": [
    "print_views()"
   ]
  },
  {
   "cell_type": "markdown",
   "metadata": {},
   "source": [
    "![Default Custom Views](./images/customviews1.png \"Default Custom Views\")"
   ]
  },
  {
   "cell_type": "markdown",
   "metadata": {},
   "source": [
    "## Create New Custom View\n",
    "\n",
    "In this step, we will create two custom views **Canada** and **Alberta** using the create_custom_views() function.\n",
    "\n",
    "For this example, we will create \n",
    "- the **Canada** view which is a L1 custom view\n",
    "- the **Alberta** custom view which will be a child of the **Canada** Custom view.\n",
    "- the **Calgary** custom view which will be a child of the **Alberta** Custom View\n",
    "\n",
    "|Name| Upperview |\n",
    "|:-----|-----|\n",
    "|Canada|     |\n",
    "|Alberta| Canada |\n",
    "|Calgary | Alberta |"
   ]
  },
  {
   "cell_type": "code",
   "execution_count": 9,
   "metadata": {},
   "outputs": [
    {
     "name": "stdout",
     "output_type": "stream",
     "text": [
      "{ \"name\": \"Canada\",\n",
      "         \"upLevelSymbolId\" : \"\"}\n",
      "{ \"name\": \"Alberta\",\n",
      "        \"upLevelSymbolId\" : \"1480\"}\n",
      "{ \"name\": \"Calgary\",\n",
      "        \"upLevelSymbolId\" : \"1481\"}\n",
      "There are a total of 4 views currently\n",
      "Alberta\n",
      "Calgary\n",
      "Canada\n",
      "My Network View\n",
      "{\n",
      "    \"statusDesc\": \"Unmanaged\",\n",
      "    \"name\": \"Alberta\",\n",
      "    \"statusImgSrc\": \"res/icon_custom_view_unmanaged_16x16.png\",\n",
      "    \"runStatus\": \"-1\",\n",
      "    \"symbolId\": \"1481\"\n",
      "}\n"
     ]
    }
   ],
   "source": [
    "create_custom_views(auth=auth.creds, url=auth.url, name=\"Canada\")\n",
    "create_custom_views(auth=auth.creds, url=auth.url, name=\"Alberta\",upperview='Canada')\n",
    "create_custom_views(auth=auth.creds, url=auth.url, name=\"Calgary\",upperview='Alberta')\n",
    "\n",
    "\n",
    "print_views()"
   ]
  },
  {
   "cell_type": "markdown",
   "metadata": {},
   "source": [
    "![Manual Custom Views](./images/customviews2.png \"Manual Custom Views\")"
   ]
  },
  {
   "cell_type": "markdown",
   "metadata": {},
   "source": [
    "### Canada View\n",
    "\n",
    "Notice that the **upLevelSymbolId** for this view is the same as the default **My Network View** shown above. We can see that this is a L1 custom view. "
   ]
  },
  {
   "cell_type": "code",
   "execution_count": 8,
   "metadata": {},
   "outputs": [
    {
     "data": {
      "text/plain": [
       "[{'name': 'Canada',\n",
       "  'runStatus': '-1',\n",
       "  'statusDesc': 'Unmanaged',\n",
       "  'statusImgSrc': 'res/icon_custom_view_unmanaged_16x16.png',\n",
       "  'symbolId': '1312',\n",
       "  'upLevelSymbolId': '3'}]"
      ]
     },
     "execution_count": 8,
     "output_type": "execute_result",
     "metadata": {}
    }
   ],
   "source": [
    "get_custom_views(url=auth.url, auth=auth.creds, name=\"Canada\")"
   ]
  },
  {
   "cell_type": "markdown",
   "metadata": {},
   "source": [
    "### Alberta View\n",
    "\n",
    "Notice that **upLevelSymbolId** for this view is equal to the **symbolId** of the **Canada** view shown in the previous example. we can see that this is a child of the Canada Custom View."
   ]
  },
  {
   "cell_type": "code",
   "execution_count": 9,
   "metadata": {},
   "outputs": [
    {
     "data": {
      "text/plain": [
       "[{'name': 'Alberta',\n",
       "  'runStatus': '-1',\n",
       "  'statusDesc': 'Unmanaged',\n",
       "  'statusImgSrc': 'res/icon_custom_view_unmanaged_16x16.png',\n",
       "  'symbolId': '1313',\n",
       "  'upLevelSymbolId': '1312'}]"
      ]
     },
     "execution_count": 9,
     "output_type": "execute_result",
     "metadata": {}
    }
   ],
   "source": [
    "get_custom_views(url=auth.url, auth=auth.creds, name=\"Alberta\")"
   ]
  },
  {
   "cell_type": "markdown",
   "metadata": {},
   "source": [
    "### Calgary View\n",
    "\n",
    "Notice that **upLevelSymbolId** for this view is equal to the **symbolId** of the **Alberta** view shown in the previous example. we can see that this is a child of the Canada Custom View."
   ]
  },
  {
   "cell_type": "code",
   "execution_count": 10,
   "metadata": {},
   "outputs": [
    {
     "data": {
      "text/plain": [
       "[{'name': 'Calgary',\n",
       "  'runStatus': '-1',\n",
       "  'statusDesc': 'Unmanaged',\n",
       "  'statusImgSrc': 'res/icon_custom_view_unmanaged_16x16.png',\n",
       "  'symbolId': '1314',\n",
       "  'upLevelSymbolId': '1313'}]"
      ]
     },
     "execution_count": 10,
     "output_type": "execute_result",
     "metadata": {}
    }
   ],
   "source": [
    "get_custom_views(url=auth.url, auth=auth.creds, name=\"Calgary\")"
   ]
  },
  {
   "cell_type": "markdown",
   "metadata": {},
   "source": [
    "## Deleting Custom Views\n",
    "\n",
    "In this section we will delete individual custom views."
   ]
  },
  {
   "cell_type": "code",
   "execution_count": 10,
   "metadata": {},
   "outputs": [
    {
     "name": "stdout",
     "output_type": "stream",
     "text": [
      "There are a total of 1 views currently\n",
      "My Network View\n",
      "{\n",
      "    \"name\": \"My Network View\",\n",
      "    \"statusImgSrc\": \"res/icon_custom_view_critical_16x16.png\",\n",
      "    \"statusDesc\": \"Critical\",\n",
      "    \"upLevelSymbolId\": \"3\",\n",
      "    \"symbolId\": \"11\",\n",
      "    \"runStatus\": \"5\"\n",
      "}\n"
     ]
    }
   ],
   "source": [
    "delete_custom_view(url=auth.url, auth=auth.creds, name='Canada')\n",
    "delete_custom_view(url=auth.url, auth=auth.creds, name='Alberta')\n",
    "delete_custom_view(url=auth.url, auth=auth.creds, name='Calgary')\n",
    "print_views()"
   ]
  },
  {
   "cell_type": "markdown",
   "metadata": {},
   "source": [
    "![Deleted Custom Views](./images/customviews4.png \"Deleted Custom Views\")"
   ]
  },
  {
   "cell_type": "markdown",
   "metadata": {},
   "source": [
    "# Display Contents of Custom Views.csv\n",
    "\n",
    "We have prepared a CSV file which contains the new custom views that we wish to create. This can contain both parent and child custom views. \n",
    "\n",
    "| name | upperview |\n",
    "| ------ | ----------- |\n",
    "| Branches   |   |\n",
    "| Branch1 | Branches |\n",
    "| Branch2    | Branches |\n",
    "| WAN      |            |"
   ]
  },
  {
   "cell_type": "code",
   "execution_count": 11,
   "metadata": {},
   "outputs": [
    {
     "name": "stdout",
     "output_type": "stream",
     "text": [
      "name,upperview\n",
      "Branches,\n",
      "Branch1,Branches\n",
      "Branch2,Branches\n",
      "WAN,\n",
      "\n"
     ]
    }
   ],
   "source": [
    "with open('custom_views.csv') as f:\n",
    "    s = f.read()\n",
    "    print (s)"
   ]
  },
  {
   "cell_type": "markdown",
   "metadata": {},
   "source": [
    "# Create Import Custom Views Function\n",
    "\n",
    "Here we create a new function which will take a CSV file shown above as an input to the create_custom_views function"
   ]
  },
  {
   "cell_type": "code",
   "execution_count": 12,
   "metadata": {},
   "outputs": [],
   "source": [
    "def import_custom_views(filename):\n",
    "    \"\"\"\n",
    "    Function which takes in a csv files as input to the create_custom_views function from the pyhpimc python module\n",
    "    available at https://github.com/HPNetworking/HP-Intelligent-Management-Center\n",
    "    :param filename: user-defined filename which contains two column named \"name\" and \"upperview\" as input into the\n",
    "    create_custom_views function from the pyhpimc module.\n",
    "    :return: returns output of the create_custom_vies function (str) for each item in the CSV file.\n",
    "    \"\"\"\n",
    "    with open(filename) as csvfile:\n",
    "        # decodes file as csv as a python dictionary\n",
    "        reader = csv.DictReader(csvfile)\n",
    "        for view in reader:\n",
    "            # loads each row of the CSV as a JSON string\n",
    "            name = view['name']\n",
    "            upperview = view['upperview']\n",
    "            if len(upperview) is 0:\n",
    "                upperview = None\n",
    "            create_custom_views(auth=auth.creds, url=auth.url,name=name,upperview=upperview)"
   ]
  },
  {
   "cell_type": "markdown",
   "metadata": {},
   "source": [
    "# Import Custom Views from CSV File"
   ]
  },
  {
   "cell_type": "code",
   "execution_count": 13,
   "metadata": {},
   "outputs": [
    {
     "name": "stdout",
     "output_type": "stream",
     "text": [
      "{ \"name\": \"Branches\",\n",
      "         \"upLevelSymbolId\" : \"\"}\n",
      "{ \"name\": \"Branch1\",\n",
      "        \"upLevelSymbolId\" : \"1483\"}\n",
      "{ \"name\": \"Branch2\",\n",
      "        \"upLevelSymbolId\" : \"1483\"}\n",
      "{ \"name\": \"WAN\",\n",
      "         \"upLevelSymbolId\" : \"\"}\n"
     ]
    }
   ],
   "source": [
    "import_custom_views('custom_views.csv')"
   ]
  },
  {
   "cell_type": "code",
   "execution_count": 14,
   "metadata": {},
   "outputs": [
    {
     "name": "stdout",
     "output_type": "stream",
     "text": [
      "There are a total of 5 views currently\n",
      "Branch1\n",
      "Branch2\n",
      "Branches\n",
      "My Network View\n",
      "WAN\n",
      "{\n",
      "    \"runStatus\": \"-1\",\n",
      "    \"name\": \"Branch1\",\n",
      "    \"statusImgSrc\": \"res/icon_custom_view_unmanaged_16x16.png\",\n",
      "    \"symbolId\": \"1306\",\n",
      "    \"statusDesc\": \"Unmanaged\"\n",
      "}\n",
      "There are a total of 5 views currently\n"
     ]
    }
   ],
   "source": [
    "views_list = get_custom_views(url=auth.url, auth=auth.creds)\n",
    "print_views()\n",
    "print (\"There are a total of \" + str(len(views_list)) + \" views currently\")"
   ]
  },
  {
   "cell_type": "markdown",
   "metadata": {},
   "source": [
    "![Imported Custom Views](./images/customviews5.png \"Imported Custom Views\")"
   ]
  },
  {
   "cell_type": "code",
   "execution_count": 5,
   "metadata": {},
   "outputs": [],
   "source": [
    "views_list = ['Branches', 'Branch1', 'Branch2', \"WAN\"]"
   ]
  },
  {
   "cell_type": "code",
   "execution_count": 6,
   "metadata": {},
   "outputs": [],
   "source": [
    "for view in views_list:\n",
    "    delete_custom_view(url=auth.url, auth=auth.creds, name=view)"
   ]
  },
  {
   "cell_type": "code",
   "execution_count": 7,
   "metadata": {},
   "outputs": [
    {
     "name": "stdout",
     "output_type": "stream",
     "text": [
      "There are a total of 1 views currently\n"
     ]
    }
   ],
   "source": [
    "views_list = get_custom_views(url=auth.url, auth=auth.creds)\n",
    "print (\"There are a total of \" + str(len(views_list)) + \" views currently\")"
   ]
  },
  {
   "cell_type": "markdown",
   "metadata": {},
   "source": [
    "![Deleted Custom Views](./images/customviews4.png \"Deleted Custom Views\")"
   ]
  },
  {
   "cell_type": "code",
   "execution_count": null,
   "metadata": {},
   "outputs": [],
   "source": [
    ""
   ]
  }
 ],
 "metadata": {
  "kernelspec": {
   "display_name": "Python 3",
   "language": "python",
   "name": "python3"
  },
  "language_info": {
   "codemirror_mode": {
    "name": "ipython",
    "version": 3.0
   },
   "file_extension": ".py",
   "mimetype": "text/x-python",
   "name": "python",
   "nbconvert_exporter": "python",
   "pygments_lexer": "ipython3",
   "version": "3.4.3"
  }
 },
 "nbformat": 4,
 "nbformat_minor": 0
}