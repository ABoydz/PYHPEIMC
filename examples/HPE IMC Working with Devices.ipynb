{
 "cells": [
  {
   "cell_type": "markdown",
   "metadata": {},
   "source": [
    "# HPE IMC Working with Devices \n",
    "\n",
    "Your NMS has an amazing amount of information in it, if you could simply get to it. \n",
    "\n",
    "That's where the RESTful API, known as the eAPI in the case of [HPE IMC](http://www.hpe.com/networking/imc) comes in.\n",
    "\n",
    "In this post, we're going to take a look at some of the devices specific APIs to see what we can kind of information we can get. "
   ]
  },
  {
   "cell_type": "markdown",
   "metadata": {},
   "source": [
    "## Importing Required libraries\n",
    "\n",
    "As usual, the first thing we need to do is to import the required libraries into our python session.\n",
    "\n",
    "For the sake of saving time, we're also going to create the auth object to make it easier for us to authenticate to the HPE IMC RESTful API later on."
   ]
  },
  {
   "cell_type": "code",
   "execution_count": 3,
   "metadata": {
    "collapsed": true
   },
   "outputs": [],
   "source": [
    "from pyhpeimc.auth import *\n",
    "from pyhpeimc.plat.device import *\n",
    "auth = IMCAuth(\"http://\", \"10.101.0.203\", \"8080\", \"admin\", \"admin\")"
   ]
  },
  {
   "cell_type": "code",
   "execution_count": 1,
   "metadata": {
    "collapsed": false
   },
   "outputs": [
    {
     "data": {
      "text/plain": [
       "4"
      ]
     },
     "execution_count": 1,
     "metadata": {},
     "output_type": "execute_result"
    }
   ],
   "source": []
  },
  {
   "cell_type": "code",
   "execution_count": null,
   "metadata": {
    "collapsed": true
   },
   "outputs": [],
   "source": []
  }
 ],
 "metadata": {
  "kernelspec": {
   "display_name": "Python 3",
   "language": "python",
   "name": "python3"
  },
  "language_info": {
   "codemirror_mode": {
    "name": "ipython",
    "version": 3
   },
   "file_extension": ".py",
   "mimetype": "text/x-python",
   "name": "python",
   "nbconvert_exporter": "python",
   "pygments_lexer": "ipython3",
   "version": "3.4.3"
  }
 },
 "nbformat": 4,
 "nbformat_minor": 0
}
